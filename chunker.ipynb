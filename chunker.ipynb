{
 "cells": [
  {
   "cell_type": "code",
   "execution_count": 8,
   "metadata": {
    "collapsed": true
   },
   "outputs": [
    {
     "name": "stdout",
     "output_type": "stream",
     "text": [
      "(S\n",
      "  (NP the/DT lazy/JJ devi/NN prasad/NN)\n",
      "  often/RB\n",
      "  walks/VBZ\n",
      "  around/IN\n",
      "  (NP the/DT sharp/JJ corner/NN))\n"
     ]
    }
   ],
   "source": [
    "import nltk\n",
    "\n",
    "# define a sample sentence\n",
    "sentence = \"the lazy devi prasad often walks around the sharp corner\"\n",
    "# tokenize the sentence into words\n",
    "tokens = nltk.word_tokenize(sentence)\n",
    "# define a grammar for chunking using regular expressions\n",
    "grammar = r\"\"\"\n",
    "    NP: {<DT|JJ|NN.*>+}   # chunk noun phrases\n",
    "    VP: {<VB.*><NP|PP|CLAUSE>+$}  # chunk verb phrases\n",
    "    CLAUSE: {<NP><VP>}   # chunk clauses\n",
    "\"\"\"\n",
    "# create a chunk parser using the defined grammar\n",
    "chunk_parser = nltk.RegexpParser(grammar)\n",
    "# parse the tokenized sentence and get the chunks\n",
    "chunks = chunk_parser.parse(nltk.pos_tag(tokens))\n",
    "# print the resulting chunks\n",
    "print(chunks)"
   ]
  },
  {
   "cell_type": "code",
   "execution_count": null,
   "outputs": [],
   "source": [],
   "metadata": {
    "collapsed": false
   }
  }
 ],
 "metadata": {
  "kernelspec": {
   "display_name": "Python 3",
   "language": "python",
   "name": "python3"
  },
  "language_info": {
   "codemirror_mode": {
    "name": "ipython",
    "version": 2
   },
   "file_extension": ".py",
   "mimetype": "text/x-python",
   "name": "python",
   "nbconvert_exporter": "python",
   "pygments_lexer": "ipython2",
   "version": "2.7.6"
  }
 },
 "nbformat": 4,
 "nbformat_minor": 0
}
