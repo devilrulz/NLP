{
 "cells": [
  {
   "cell_type": "code",
   "execution_count": 1,
   "metadata": {
    "collapsed": true
   },
   "outputs": [
    {
     "name": "stdout",
     "output_type": "stream",
     "text": [
      "[('Tajmahal', 'NNP'), ('is', 'VBZ'), ('beautiful', 'JJ'), ('.', '.')]\n",
      "[('John', 'NNP'), ('is', 'VBZ'), ('eating', 'VBG'), ('a', 'DT'), ('pizza', 'NN')]\n",
      "[('The', 'DT'), ('cat', 'NN'), ('is', 'VBZ'), ('sleeping', 'VBG'), ('on', 'IN'), ('the', 'DT'), ('mat', 'NN')]\n",
      "[('I', 'PRP'), ('am', 'VBP'), ('going', 'VBG'), ('to', 'TO'), ('the', 'DT'), ('cinema', 'NN')]\n"
     ]
    }
   ],
   "source": [
    "from nltk import pos_tag, word_tokenize\n",
    "\n",
    "text = [\"Tajmahal is beautiful.\", \"John is eating a pizza\", \"The cat is sleeping on the mat\",\n",
    "        \"I am going to the cinema\"]\n",
    "for tokens in text:\n",
    "    print(pos_tag(word_tokenize(tokens)))"
   ]
  },
  {
   "cell_type": "code",
   "execution_count": 5,
   "outputs": [
    {
     "name": "stdout",
     "output_type": "stream",
     "text": [
      "The DET\n",
      "cat NOUN\n",
      "is VERB\n",
      "sitting VERB\n",
      "on ADP\n",
      "the DET\n",
      "mat NOUN\n"
     ]
    }
   ],
   "source": [
    "import nltk\n",
    "\n",
    "# Training data for the HMM\n",
    "training_data = [\n",
    "    [(\"The\", \"DET\"), (\"cat\", \"NOUN\"), (\"is\", \"VERB\"), (\"sitting\", \"VERB\"), (\"on\", \"ADP\"), (\"the\", \"DET\"), (\"mat\", \"NOUN\")],\n",
    "    [(\"I\", \"PRON\"), (\"love\", \"VERB\"), (\"to\", \"PRT\"), (\"eat\", \"VERB\"), (\"pizza\", \"NOUN\")],\n",
    "    [(\"She\", \"PRON\"), (\"sings\", \"VERB\"), (\"beautifully\", \"ADV\")]\n",
    "]\n",
    "\n",
    "# Create the HMM tagger\n",
    "hmm_tagger = nltk.HiddenMarkovModelTagger.train(training_data)\n",
    "\n",
    "# Test sentence\n",
    "test_sentence = \"The cat is sitting on the mat\"\n",
    "\n",
    "# Tokenize the test sentence\n",
    "tokens = nltk.word_tokenize(test_sentence)\n",
    "\n",
    "# Perform POS tagging using the HMM tagger\n",
    "pos_tags = hmm_tagger.tag(tokens)\n",
    "\n",
    "# Print the POS tagged result\n",
    "for word, tag in pos_tags:\n",
    "    print(word, tag)\n"
   ],
   "metadata": {
    "collapsed": false
   }
  },
  {
   "cell_type": "code",
   "execution_count": null,
   "outputs": [],
   "source": [
    "'''POS tagging, short for Part-of-Speech tagging, is a process in natural language processing that assigns grammatical tags or labels to words in a sentence, indicating their part of speech and syntactic category. It is a fundamental step in many NLP tasks as it helps in understanding the grammatical structure and meaning of text.\n",
    "\n",
    "The POS tags represent the syntactic category of a word, such as noun, verb, adjective, adverb, pronoun, preposition, conjunction, etc. The specific set of tags used can vary depending on the tagset or tagger being used.\n",
    "\n",
    "HMM (Hidden Markov Model) is a statistical model commonly used for POS tagging. HMM-based POS tagging involves modeling the sequence of words and their corresponding POS tags as a sequence of hidden states and observed emissions. The hidden states represent the POS tags, and the emissions represent the words.\n",
    "\n",
    "Viterbi POS tagging is a specific algorithm used for assigning the most likely sequence of POS tags to a given sequence of words in a sentence. It is based on the Viterbi algorithm, which is a dynamic programming algorithm for finding the most probable sequence of hidden states in a sequence of observed events.\n",
    "\n",
    "In the context of POS tagging, the Viterbi algorithm is used to find the sequence of POS tags that maximizes the probability of the observed sequence of words. It takes into account the transition probabilities between POS tags and the emission probabilities of words given the POS tags.'''"
   ],
   "metadata": {
    "collapsed": false,
    "pycharm": {
     "is_executing": true
    }
   }
  },
  {
   "cell_type": "code",
   "execution_count": null,
   "outputs": [],
   "source": [],
   "metadata": {
    "collapsed": false
   }
  }
 ],
 "metadata": {
  "kernelspec": {
   "display_name": "Python 3",
   "language": "python",
   "name": "python3"
  },
  "language_info": {
   "codemirror_mode": {
    "name": "ipython",
    "version": 2
   },
   "file_extension": ".py",
   "mimetype": "text/x-python",
   "name": "python",
   "nbconvert_exporter": "python",
   "pygments_lexer": "ipython2",
   "version": "2.7.6"
  }
 },
 "nbformat": 4,
 "nbformat_minor": 0
}
